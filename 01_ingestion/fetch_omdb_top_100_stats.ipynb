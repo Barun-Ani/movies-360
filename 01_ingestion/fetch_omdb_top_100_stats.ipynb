{
 "cells": [
  {
   "cell_type": "code",
   "execution_count": 0,
   "metadata": {
    "application/vnd.databricks.v1+cell": {
     "cellMetadata": {
      "byteLimit": 2048000,
      "rowLimit": 10000
     },
     "inputWidgets": {},
     "nuid": "7f43000a-2d72-4534-a0c1-3e3d322135cf",
     "showTitle": false,
     "tableResultSettingsMap": {},
     "title": ""
    }
   },
   "outputs": [],
   "source": [
    "#run configs and params\n",
    "%run \"../00_configs/env\""
   ]
  },
  {
   "cell_type": "code",
   "execution_count": 0,
   "metadata": {
    "application/vnd.databricks.v1+cell": {
     "cellMetadata": {
      "byteLimit": 2048000,
      "rowLimit": 10000
     },
     "inputWidgets": {},
     "nuid": "48323697-2b35-4c57-9133-342dfb85c8d4",
     "showTitle": false,
     "tableResultSettingsMap": {},
     "title": ""
    }
   },
   "outputs": [],
   "source": [
    "#fetch top 100 movies list\n",
    "df_imdb_top_100 = spark.read.csv('/Volumes/movies-360-catalog/bronze_layer/imdb_movies_top_100/movies.csv', header=True, inferSchema=True)\n",
    "movie_target_list = [row.movie_name for row in df_imdb_top_100.select(\"movie_name\").collect()]"
   ]
  },
  {
   "cell_type": "code",
   "execution_count": 0,
   "metadata": {
    "application/vnd.databricks.v1+cell": {
     "cellMetadata": {
      "byteLimit": 2048000,
      "rowLimit": 10000
     },
     "inputWidgets": {},
     "nuid": "ff7a7520-4b64-4f58-bd14-3437d9b310d1",
     "showTitle": false,
     "tableResultSettingsMap": {},
     "title": ""
    }
   },
   "outputs": [],
   "source": [
    "#fetching data from omdb for the target list\n",
    "omdb_top_100_stats = []\n",
    "for title in movie_target_list:\n",
    "    url = f\"http://www.omdbapi.com/?t={title}&apikey={omdb_api_key}\"\n",
    "    res = requests.get(url).json()\n",
    "    omdb_top_100_stats.append(res)"
   ]
  },
  {
   "cell_type": "code",
   "execution_count": 0,
   "metadata": {
    "application/vnd.databricks.v1+cell": {
     "cellMetadata": {
      "byteLimit": 2048000,
      "rowLimit": 10000
     },
     "inputWidgets": {},
     "nuid": "20f65017-5730-460e-b1fa-1d55390fd83d",
     "showTitle": false,
     "tableResultSettingsMap": {},
     "title": ""
    }
   },
   "outputs": [],
   "source": [
    "#create dataframe and save the data to bronze layer\n",
    "df_omdb_top_100_stats_raw = spark.createDataFrame(omdb_top_100_stats)\n",
    "df_omdb_top_100_stats_raw.write.mode(\"overwrite\").format(\"parquet\").save(f\"/Volumes/movies-360-catalog/bronze_layer/omdb_top_100_stats_raw/\")"
   ]
  }
 ],
 "metadata": {
  "application/vnd.databricks.v1+notebook": {
   "computePreferences": null,
   "dashboards": [],
   "environmentMetadata": {
    "base_environment": "",
    "environment_version": "3"
   },
   "inputWidgetPreferences": null,
   "language": "python",
   "notebookMetadata": {
    "pythonIndentUnit": 4
   },
   "notebookName": "fetch_omdb_top_100_stats",
   "widgets": {}
  },
  "language_info": {
   "name": "python"
  }
 },
 "nbformat": 4,
 "nbformat_minor": 0
}
